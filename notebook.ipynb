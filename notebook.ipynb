{
 "cells": [
  {
   "cell_type": "code",
   "execution_count": 1,
   "metadata": {},
   "outputs": [
    {
     "data": {
      "text/plain": [
       "'Winston lives in a place called Victory Mansions.'"
      ]
     },
     "execution_count": 1,
     "metadata": {},
     "output_type": "execute_result"
    }
   ],
   "source": [
    "from langchain.chat_models import ChatOpenAI\n",
    "from langchain.document_loaders import UnstructuredFileLoader\n",
    "from langchain.text_splitter import CharacterTextSplitter\n",
    "from langchain.embeddings import OpenAIEmbeddings, CacheBackedEmbeddings\n",
    "from langchain.vectorstores import Chroma\n",
    "from langchain.storage import LocalFileStore\n",
    "from langchain.chains import RetrievalQA\n",
    "\n",
    "\n",
    "llm = ChatOpenAI()\n",
    "\n",
    "cache_dir = LocalFileStore(\"./.cache/\")\n",
    "\n",
    "splitter = CharacterTextSplitter.from_tiktoken_encoder(\n",
    "    separator=\"\\n\",\n",
    "    chunk_size=600,\n",
    "    chunk_overlap=100,\n",
    ")\n",
    "\n",
    "loader = UnstructuredFileLoader(\"./files/chapter_one.docx\")\n",
    "\n",
    "docs = loader.load_and_split(text_splitter=splitter)\n",
    "\n",
    "embeddings = OpenAIEmbeddings()\n",
    "\n",
    "cached_embeddings = CacheBackedEmbeddings.from_bytes_store(embeddings, cache_dir)\n",
    "\n",
    "vectorstore = Chroma.from_documents(docs, cached_embeddings)\n",
    "\n",
    "chain = RetrievalQA.from_chain_type(\n",
    "    llm=llm,\n",
    "    chain_type=\"stuff\",\n",
    "    retriever=vectorstore.as_retriever(),\n",
    ")\n",
    "\n",
    "chain.run(\"Where does Winstom live?\")"
   ]
  },
  {
   "cell_type": "code",
   "execution_count": 2,
   "metadata": {},
   "outputs": [
    {
     "data": {
      "text/plain": [
       "'Victory Mansions is described as a building with a hallway that smells of boiled cabbage and old rag mats. It has glass doors that lead into the interior, and the lift is seldom working, forcing residents to climb several flights of stairs. The building is characterized by its grimy appearance, and on the walls, there are large posters depicting the face of a man with a heavy black moustache, captioned with \"BIG BROTHER IS WATCHING YOU.\" Overall, it conveys a sense of decay and oppressive atmosphere typical of the society in which Winston Smith lives.'"
      ]
     },
     "execution_count": 2,
     "metadata": {},
     "output_type": "execute_result"
    }
   ],
   "source": [
    "chain.run(\"Describe Victory Mansions\")"
   ]
  },
  {
   "cell_type": "code",
   "execution_count": 3,
   "metadata": {},
   "outputs": [
    {
     "name": "stdout",
     "output_type": "stream",
     "text": [
      "Victory Mansions is portrayed as a dilapidated apartment building where Winston Smith resides in George Orwell's \"1984.\" The building is characterized by its grim and neglected environment, with an entrance featuring glass doors that allow dust to swirl in, emphasizing the decay of the setting. The hallway emits an unpleasant odor of boiled cabbage, further reflecting the neglect and drabness of life under the oppressive regime.\n",
      "\n",
      "Winston's flat is notable for its unusual layout, particularly the positioning of the telescreen, which is situated on a longer wall opposite the window rather than the typical end wall. This arrangement allows Winston to sit in a shallow alcove, enabling him to remain outside the telescreen's line of sight, although he knows he can still be heard. The presence of the telescreen, a device that broadcasts Party propaganda and intrudes on his privacy, illustrates the pervasive surveillance that dominates his life.\n",
      "\n",
      "In this oppressive environment, Winston finds solace in a peculiar and beautiful book he has acquired, which stands in stark contrast to his surroundings. The book, with its creamy, yellowed pages, is a relic from a time long past, evoking a sense of nostalgia and desire for a reality that the Party seeks to suppress. Despite the risk involved in possessing it, the book represents a small act of rebellion against the Party's control over truth and individual thought.\n",
      "\n",
      "The building itself is part of a bleak urban landscape marked by rotting nineteenth-century houses, bombed sites, and makeshift wooden dwellings, painting a picture of decay and desolation in London, the chief city of Airstrip One. In stark contrast to Victory Mansions is the nearby Ministry of Truth, an imposing structure of glittering white concrete that looms over the grim surroundings. This pyramid-shaped edifice houses the Party's operations related to news, education, and art, and its slogans—“WAR IS PEACE,” “FREEDOM IS SLAVERY,” and “IGNORANCE IS STRENGTH”—reflect the totalitarian ideologies that dominate Winston's life. The Ministry's grandeur highlights the disparity between the oppressive living conditions of the citizens and the powerful government that controls them, underscoring the novel’s themes of surveillance, control, and the manipulation of truth.\n"
     ]
    }
   ],
   "source": [
    "from langchain.vectorstores import FAISS\n",
    "\n",
    "vectorstore = FAISS.from_documents(docs, cached_embeddings)\n",
    "\n",
    "chain = RetrievalQA.from_chain_type(\n",
    "    llm=llm,\n",
    "    chain_type=\"refine\",\n",
    "    retriever=vectorstore.as_retriever(),\n",
    ")\n",
    "\n",
    "print(chain.run(\"Describe Victory Mansions\"))"
   ]
  }
 ],
 "metadata": {
  "kernelspec": {
   "display_name": "env",
   "language": "python",
   "name": "python3"
  },
  "language_info": {
   "codemirror_mode": {
    "name": "ipython",
    "version": 3
   },
   "file_extension": ".py",
   "mimetype": "text/x-python",
   "name": "python",
   "nbconvert_exporter": "python",
   "pygments_lexer": "ipython3",
   "version": "3.11.6"
  }
 },
 "nbformat": 4,
 "nbformat_minor": 2
}
