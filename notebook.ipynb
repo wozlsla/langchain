{
 "cells": [
  {
   "cell_type": "code",
   "execution_count": 11,
   "metadata": {},
   "outputs": [
    {
     "data": {
      "text/plain": [
       "'Making Italian pasta from scratch is a rewarding process! Here’s a simple recipe for fresh pasta:\\n\\n### Ingredients:\\n- 2 cups all-purpose flour (or \"00\" flour for a more authentic texture)\\n- 3 large eggs\\n- A pinch of salt\\n- A little water (if needed)\\n\\n### Instructions:\\n\\n#### 1. Prepare the Dough:\\n- **Make a Flour Well**: On a clean surface or in a large bowl, mound the flour and make a well in the center. Add a pinch of salt.\\n- **Add Eggs**: Crack the eggs into the well. Using a fork, beat the eggs gently, gradually incorporating the flour from the edges of the well.\\n- **Form the Dough**: As the mixture becomes too thick to mix with a fork, use your hands to knead the dough together. If the dough is too dry, add a little water; if it\\'s too sticky, sprinkle in a bit more flour.\\n\\n#### 2. Knead the Dough:\\n- Knead the dough for about 8-10 minutes until it is smooth and elastic. Wrap it in plastic wrap or cover it with a towel and let it rest for at least 30 minutes at room temperature. This allows the gluten to relax.\\n\\n#### 3. Roll Out the Dough:\\n- **Divide the Dough**: Cut the rested dough into four pieces. Keep the pieces you are not using covered to prevent them from drying out.\\n- **Flatten and Roll**: Using a rolling pin or a pasta machine, roll out one piece of dough at a time to your desired thickness (usually about 1/16 inch for thin pasta). Dust with flour as needed to prevent sticking.\\n\\n#### 4. Cut the Pasta:\\n- **Shape the Pasta**: You can cut the rolled-out dough into various shapes, such as tagliatelle, fettuccine, or lasagna sheets. Use a sharp knife or a pasta cutter for even shapes.\\n- **Dust with Flour**: Dust the cut pasta with a little flour to prevent it from sticking together.\\n\\n#### 5. Cook the Pasta:\\n- **Boil Water**: Bring a large pot of salted water to a boil.\\n- **Cook the Pasta**: Add the fresh pasta to the boiling water. Fresh pasta cooks quickly, usually in 2-4 minutes. Taste a piece to check for doneness.\\n- **Drain and Serve**: Drain the pasta and toss it with your favorite sauce or ingredients.\\n\\n### Tips:\\n- **Sauce Pairing**: Fresh pasta pairs well with lighter sauces, such as olive oil and garlic, or simple tomato sauces.\\n- **Storage**: If you’re not cooking the pasta immediately, you can dry it on a pasta drying rack or freeze it for later use.\\n\\nEnjoy your homemade Italian pasta!'"
      ]
     },
     "execution_count": 11,
     "metadata": {},
     "output_type": "execute_result"
    }
   ],
   "source": [
    "from langchain.chat_models import ChatOpenAI\n",
    "from langchain.callbacks import StreamingStdOutCallbackHandler\n",
    "from langchain.globals import set_llm_cache\n",
    "from langchain.cache import InMemoryCache\n",
    "\n",
    "set_llm_cache(InMemoryCache())\n",
    "\n",
    "\n",
    "chat = ChatOpenAI(\n",
    "    temperature=0.1,\n",
    "    # streaming=True,\n",
    "    # callbacks=[\n",
    "    #     StreamingStdOutCallbackHandler(),\n",
    "    # ],\n",
    ")\n",
    "\n",
    "chat.predict(\"How do yo make italian pasta\")"
   ]
  },
  {
   "cell_type": "code",
   "execution_count": 12,
   "metadata": {},
   "outputs": [
    {
     "data": {
      "text/plain": [
       "'Making Italian pasta from scratch is a rewarding process! Here’s a simple recipe for fresh pasta:\\n\\n### Ingredients:\\n- 2 cups all-purpose flour (or \"00\" flour for a more authentic texture)\\n- 3 large eggs\\n- A pinch of salt\\n- A little water (if needed)\\n\\n### Instructions:\\n\\n#### 1. Prepare the Dough:\\n- **Make a Flour Well**: On a clean surface or in a large bowl, mound the flour and make a well in the center. Add a pinch of salt.\\n- **Add Eggs**: Crack the eggs into the well. Using a fork, beat the eggs gently, gradually incorporating the flour from the edges of the well.\\n- **Form the Dough**: As the mixture becomes too thick to mix with a fork, use your hands to knead the dough together. If the dough is too dry, add a little water; if it\\'s too sticky, sprinkle in a bit more flour.\\n\\n#### 2. Knead the Dough:\\n- Knead the dough for about 8-10 minutes until it is smooth and elastic. Wrap it in plastic wrap or cover it with a towel and let it rest for at least 30 minutes at room temperature. This allows the gluten to relax.\\n\\n#### 3. Roll Out the Dough:\\n- **Divide the Dough**: Cut the rested dough into four pieces. Keep the pieces you are not using covered to prevent them from drying out.\\n- **Flatten and Roll**: Using a rolling pin or a pasta machine, roll out one piece of dough at a time to your desired thickness (usually about 1/16 inch for thin pasta). Dust with flour as needed to prevent sticking.\\n\\n#### 4. Cut the Pasta:\\n- **Shape the Pasta**: You can cut the rolled-out dough into various shapes, such as tagliatelle, fettuccine, or lasagna sheets. Use a sharp knife or a pasta cutter for even shapes.\\n- **Dust with Flour**: Dust the cut pasta with a little flour to prevent it from sticking together.\\n\\n#### 5. Cook the Pasta:\\n- **Boil Water**: Bring a large pot of salted water to a boil.\\n- **Cook the Pasta**: Add the fresh pasta to the boiling water. Fresh pasta cooks quickly, usually in 2-4 minutes. Taste a piece to check for doneness.\\n- **Drain and Serve**: Drain the pasta and toss it with your favorite sauce or ingredients.\\n\\n### Tips:\\n- **Sauce Pairing**: Fresh pasta pairs well with lighter sauces, such as olive oil and garlic, or simple tomato sauces.\\n- **Storage**: If you’re not cooking the pasta immediately, you can dry it on a pasta drying rack or freeze it for later use.\\n\\nEnjoy your homemade Italian pasta!'"
      ]
     },
     "execution_count": 12,
     "metadata": {},
     "output_type": "execute_result"
    }
   ],
   "source": [
    "chat.predict(\"How do yo make italian pasta\")"
   ]
  },
  {
   "cell_type": "code",
   "execution_count": 2,
   "metadata": {},
   "outputs": [
    {
     "data": {
      "text/plain": [
       "'Making Italian pasta from scratch is a rewarding process! Here’s a simple recipe for fresh pasta:\\n\\n### Ingredients:\\n- 2 cups all-purpose flour (or \"00\" flour for a more authentic texture)\\n- 3 large eggs\\n- A pinch of salt\\n- A little water (if needed)\\n\\n### Instructions:\\n\\n#### 1. Prepare the Dough:\\n- **Make a Flour Well**: On a clean surface or in a large bowl, mound the flour and make a well in the center. Add a pinch of salt.\\n- **Add Eggs**: Crack the eggs into the well. Using a fork, beat the eggs gently, gradually incorporating the flour from the edges of the well.\\n- **Form the Dough**: As the mixture becomes too thick to mix with a fork, use your hands to knead the dough together. If the dough is too dry, add a little water; if it\\'s too sticky, sprinkle with a bit more flour.\\n\\n#### 2. Knead the Dough:\\n- Knead the dough for about 8-10 minutes until it is smooth and elastic. Wrap it in plastic wrap and let it rest for at least 30 minutes at room temperature. This allows the gluten to relax.\\n\\n#### 3. Roll Out the Dough:\\n- After resting, divide the dough into four pieces. Keep the pieces you’re not using covered to prevent them from drying out.\\n- Flatten one piece slightly and dust it with flour. Using a rolling pin or a pasta machine, roll it out to your desired thickness (usually about 1/16 inch for thin pasta).\\n\\n#### 4. Cut the Pasta:\\n- Once rolled out, you can cut the pasta into your desired shape: \\n  - For **fettuccine**, roll the sheet loosely and slice it into strips.\\n  - For **lasagna**, cut into rectangles.\\n  - For **ravioli**, place filling on one sheet, cover with another, and cut into squares.\\n\\n#### 5. Cook the Pasta:\\n- Bring a large pot of salted water to a boil. Fresh pasta cooks quickly, usually in 2-4 minutes depending on thickness.\\n- Taste a piece to check for doneness, then drain and serve with your favorite sauce.\\n\\n### Tips:\\n- **Flour Type**: \"00\" flour is preferred for its fine texture, but all-purpose flour works well too.\\n- **Resting Time**: Don’t skip the resting time; it’s crucial for the dough’s texture.\\n- **Storage**: Fresh pasta can be dried for later use or stored in the refrigerator for a couple of days.\\n\\nEnjoy your homemade Italian pasta!'"
      ]
     },
     "execution_count": 2,
     "metadata": {},
     "output_type": "execute_result"
    }
   ],
   "source": [
    "from langchain.cache import SQLiteCache\n",
    "\n",
    "set_llm_cache(SQLiteCache(\"cache.db\"))\n",
    "\n",
    "chat = ChatOpenAI(\n",
    "    temperature=0.1,\n",
    ")\n",
    "\n",
    "chat.predict(\"How do yo make italian pasta\")"
   ]
  },
  {
   "cell_type": "code",
   "execution_count": null,
   "metadata": {},
   "outputs": [],
   "source": []
  },
  {
   "cell_type": "code",
   "execution_count": 15,
   "metadata": {},
   "outputs": [
    {
     "name": "stdout",
     "output_type": "stream",
     "text": [
      "\u001b[32;1m\u001b[1;3m[llm/start]\u001b[0m \u001b[1m[1:llm:ChatOpenAI] Entering LLM run with input:\n",
      "\u001b[0m{\n",
      "  \"prompts\": [\n",
      "    \"Human: How do yo make italian pasta\"\n",
      "  ]\n",
      "}\n",
      "\u001b[36;1m\u001b[1;3m[llm/end]\u001b[0m \u001b[1m[1:llm:ChatOpenAI] [1ms] Exiting LLM run with output:\n",
      "\u001b[0m{\n",
      "  \"generations\": [\n",
      "    [\n",
      "      {\n",
      "        \"text\": \"Making Italian pasta from scratch is a rewarding process! Here’s a simple recipe for fresh pasta:\\n\\n### Ingredients:\\n- 2 cups all-purpose flour (or \\\"00\\\" flour for a more authentic texture)\\n- 3 large eggs\\n- A pinch of salt\\n- A little water (if needed)\\n\\n### Instructions:\\n\\n#### 1. Prepare the Dough:\\n- **Make a Flour Well**: On a clean surface or in a large bowl, mound the flour and make a well in the center. Add a pinch of salt.\\n- **Add Eggs**: Crack the eggs into the well. Using a fork, beat the eggs gently, gradually incorporating the flour from the edges of the well.\\n- **Form the Dough**: As the mixture becomes too thick to mix with a fork, use your hands to knead the dough together. If the dough is too dry, add a little water; if it's too sticky, sprinkle in a bit more flour.\\n\\n#### 2. Knead the Dough:\\n- Knead the dough for about 8-10 minutes until it is smooth and elastic. Wrap it in plastic wrap or cover it with a towel and let it rest for at least 30 minutes at room temperature. This allows the gluten to relax.\\n\\n#### 3. Roll Out the Dough:\\n- **Divide the Dough**: Cut the rested dough into four pieces. Keep the pieces you are not using covered to prevent them from drying out.\\n- **Flatten and Roll**: Using a rolling pin or a pasta machine, roll out one piece of dough at a time to your desired thickness (usually about 1/16 inch for thin pasta). Dust with flour as needed to prevent sticking.\\n\\n#### 4. Cut the Pasta:\\n- **Shape the Pasta**: You can cut the rolled-out dough into various shapes, such as tagliatelle, fettuccine, or lasagna sheets. Use a sharp knife or a pasta cutter for even shapes.\\n- **Dust with Flour**: Dust the cut pasta with a little flour to prevent it from sticking together.\\n\\n#### 5. Cook the Pasta:\\n- **Boil Water**: Bring a large pot of salted water to a boil.\\n- **Cook the Pasta**: Add the fresh pasta to the boiling water. Fresh pasta cooks quickly, usually in 2-4 minutes. Taste a piece to check for doneness.\\n- **Drain and Serve**: Drain the pasta and toss it with your favorite sauce or ingredients.\\n\\n### Tips:\\n- **Sauce Pairing**: Fresh pasta pairs well with lighter sauces, such as olive oil and garlic, or simple tomato sauces.\\n- **Storage**: If you’re not cooking the pasta immediately, you can dry it on a pasta drying rack or freeze it for later use.\\n\\nEnjoy your homemade Italian pasta!\",\n",
      "        \"generation_info\": {\n",
      "          \"finish_reason\": \"stop\"\n",
      "        },\n",
      "        \"type\": \"ChatGeneration\",\n",
      "        \"message\": {\n",
      "          \"lc\": 1,\n",
      "          \"type\": \"constructor\",\n",
      "          \"id\": [\n",
      "            \"langchain\",\n",
      "            \"schema\",\n",
      "            \"messages\",\n",
      "            \"AIMessage\"\n",
      "          ],\n",
      "          \"kwargs\": {\n",
      "            \"content\": \"Making Italian pasta from scratch is a rewarding process! Here’s a simple recipe for fresh pasta:\\n\\n### Ingredients:\\n- 2 cups all-purpose flour (or \\\"00\\\" flour for a more authentic texture)\\n- 3 large eggs\\n- A pinch of salt\\n- A little water (if needed)\\n\\n### Instructions:\\n\\n#### 1. Prepare the Dough:\\n- **Make a Flour Well**: On a clean surface or in a large bowl, mound the flour and make a well in the center. Add a pinch of salt.\\n- **Add Eggs**: Crack the eggs into the well. Using a fork, beat the eggs gently, gradually incorporating the flour from the edges of the well.\\n- **Form the Dough**: As the mixture becomes too thick to mix with a fork, use your hands to knead the dough together. If the dough is too dry, add a little water; if it's too sticky, sprinkle in a bit more flour.\\n\\n#### 2. Knead the Dough:\\n- Knead the dough for about 8-10 minutes until it is smooth and elastic. Wrap it in plastic wrap or cover it with a towel and let it rest for at least 30 minutes at room temperature. This allows the gluten to relax.\\n\\n#### 3. Roll Out the Dough:\\n- **Divide the Dough**: Cut the rested dough into four pieces. Keep the pieces you are not using covered to prevent them from drying out.\\n- **Flatten and Roll**: Using a rolling pin or a pasta machine, roll out one piece of dough at a time to your desired thickness (usually about 1/16 inch for thin pasta). Dust with flour as needed to prevent sticking.\\n\\n#### 4. Cut the Pasta:\\n- **Shape the Pasta**: You can cut the rolled-out dough into various shapes, such as tagliatelle, fettuccine, or lasagna sheets. Use a sharp knife or a pasta cutter for even shapes.\\n- **Dust with Flour**: Dust the cut pasta with a little flour to prevent it from sticking together.\\n\\n#### 5. Cook the Pasta:\\n- **Boil Water**: Bring a large pot of salted water to a boil.\\n- **Cook the Pasta**: Add the fresh pasta to the boiling water. Fresh pasta cooks quickly, usually in 2-4 minutes. Taste a piece to check for doneness.\\n- **Drain and Serve**: Drain the pasta and toss it with your favorite sauce or ingredients.\\n\\n### Tips:\\n- **Sauce Pairing**: Fresh pasta pairs well with lighter sauces, such as olive oil and garlic, or simple tomato sauces.\\n- **Storage**: If you’re not cooking the pasta immediately, you can dry it on a pasta drying rack or freeze it for later use.\\n\\nEnjoy your homemade Italian pasta!\",\n",
      "            \"additional_kwargs\": {}\n",
      "          }\n",
      "        }\n",
      "      }\n",
      "    ]\n",
      "  ],\n",
      "  \"llm_output\": null,\n",
      "  \"run\": null\n",
      "}\n"
     ]
    },
    {
     "data": {
      "text/plain": [
       "'Making Italian pasta from scratch is a rewarding process! Here’s a simple recipe for fresh pasta:\\n\\n### Ingredients:\\n- 2 cups all-purpose flour (or \"00\" flour for a more authentic texture)\\n- 3 large eggs\\n- A pinch of salt\\n- A little water (if needed)\\n\\n### Instructions:\\n\\n#### 1. Prepare the Dough:\\n- **Make a Flour Well**: On a clean surface or in a large bowl, mound the flour and make a well in the center. Add a pinch of salt.\\n- **Add Eggs**: Crack the eggs into the well. Using a fork, beat the eggs gently, gradually incorporating the flour from the edges of the well.\\n- **Form the Dough**: As the mixture becomes too thick to mix with a fork, use your hands to knead the dough together. If the dough is too dry, add a little water; if it\\'s too sticky, sprinkle in a bit more flour.\\n\\n#### 2. Knead the Dough:\\n- Knead the dough for about 8-10 minutes until it is smooth and elastic. Wrap it in plastic wrap or cover it with a towel and let it rest for at least 30 minutes at room temperature. This allows the gluten to relax.\\n\\n#### 3. Roll Out the Dough:\\n- **Divide the Dough**: Cut the rested dough into four pieces. Keep the pieces you are not using covered to prevent them from drying out.\\n- **Flatten and Roll**: Using a rolling pin or a pasta machine, roll out one piece of dough at a time to your desired thickness (usually about 1/16 inch for thin pasta). Dust with flour as needed to prevent sticking.\\n\\n#### 4. Cut the Pasta:\\n- **Shape the Pasta**: You can cut the rolled-out dough into various shapes, such as tagliatelle, fettuccine, or lasagna sheets. Use a sharp knife or a pasta cutter for even shapes.\\n- **Dust with Flour**: Dust the cut pasta with a little flour to prevent it from sticking together.\\n\\n#### 5. Cook the Pasta:\\n- **Boil Water**: Bring a large pot of salted water to a boil.\\n- **Cook the Pasta**: Add the fresh pasta to the boiling water. Fresh pasta cooks quickly, usually in 2-4 minutes. Taste a piece to check for doneness.\\n- **Drain and Serve**: Drain the pasta and toss it with your favorite sauce or ingredients.\\n\\n### Tips:\\n- **Sauce Pairing**: Fresh pasta pairs well with lighter sauces, such as olive oil and garlic, or simple tomato sauces.\\n- **Storage**: If you’re not cooking the pasta immediately, you can dry it on a pasta drying rack or freeze it for later use.\\n\\nEnjoy your homemade Italian pasta!'"
      ]
     },
     "execution_count": 15,
     "metadata": {},
     "output_type": "execute_result"
    }
   ],
   "source": [
    "from langchain.globals import set_debug\n",
    "\n",
    "set_debug(True)\n",
    "\n",
    "chat = ChatOpenAI(\n",
    "    temperature=0.1,\n",
    "    # streaming=True,\n",
    "    # callbacks=[\n",
    "    #     StreamingStdOutCallbackHandler(),\n",
    "    # ],\n",
    ")\n",
    "\n",
    "chat.predict(\"How do yo make italian pasta\")"
   ]
  }
 ],
 "metadata": {
  "kernelspec": {
   "display_name": "env",
   "language": "python",
   "name": "python3"
  },
  "language_info": {
   "codemirror_mode": {
    "name": "ipython",
    "version": 3
   },
   "file_extension": ".py",
   "mimetype": "text/x-python",
   "name": "python",
   "nbconvert_exporter": "python",
   "pygments_lexer": "ipython3",
   "version": "3.11.6"
  }
 },
 "nbformat": 4,
 "nbformat_minor": 2
}
