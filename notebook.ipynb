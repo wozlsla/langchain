{
 "cells": [
  {
   "cell_type": "code",
   "execution_count": 13,
   "metadata": {},
   "outputs": [],
   "source": [
    "from langchain.chat_models import ChatOpenAI\n",
    "from langchain.prompts.few_shot import FewShotChatMessagePromptTemplate\n",
    "from langchain.callbacks import StreamingStdOutCallbackHandler\n",
    "from langchain.prompts import ChatPromptTemplate\n",
    "\n",
    "\n",
    "chat = ChatOpenAI(\n",
    "    temperature=0.1,\n",
    "    streaming=True,\n",
    "    callbacks=[\n",
    "        StreamingStdOutCallbackHandler(),\n",
    "    ],\n",
    ")\n",
    "\n",
    "\n",
    "examples = [\n",
    "    {\n",
    "        \"country\": \"France\",\n",
    "        \"answer\": \"\"\"\n",
    "        Here is what I know:\n",
    "        Capital: Paris\n",
    "        Language: French\n",
    "        Food: Wine and Cheese\n",
    "        Currency: Euro\n",
    "        \"\"\",\n",
    "    },\n",
    "    {\n",
    "        \"country\": \"Italy\",\n",
    "        \"answer\": \"\"\"\n",
    "        I know this:\n",
    "        Capital: Rome\n",
    "        Language: Italian\n",
    "        Food: Pizza and Pasta\n",
    "        Currency: Euro\n",
    "        \"\"\",\n",
    "    },\n",
    "    {\n",
    "        \"country\": \"Greece\",\n",
    "        \"answer\": \"\"\"\n",
    "        I know this:\n",
    "        Capital: Athens\n",
    "        Language: Greek\n",
    "        Food: Souvlaki and Feta Cheese\n",
    "        Currency: Euro\n",
    "        \"\"\",\n",
    "    },\n",
    "]\n",
    "\n",
    "\n",
    "example_prompt = ChatPromptTemplate.from_messages(\n",
    "    [\n",
    "        (\"human\", \"What do you know about {country}?\"),\n",
    "        (\"ai\", \"{answer}\"),\n",
    "    ]\n",
    ")\n",
    "\n",
    "example_prompt = FewShotChatMessagePromptTemplate(\n",
    "    example_prompt=example_prompt,\n",
    "    examples=examples,\n",
    ")\n",
    "\n",
    "final_prompt = ChatPromptTemplate.from_messages(\n",
    "    [\n",
    "        (\n",
    "            \"system\",\n",
    "            \"You are a geography expert, you give short answer.\",\n",
    "        ),\n",
    "        example_prompt,\n",
    "        (\"human\", \"What do you know about {country}?\"),\n",
    "    ]\n",
    ")\n",
    "\n",
    "chain = final_prompt | chat"
   ]
  },
  {
   "cell_type": "code",
   "execution_count": 13,
   "metadata": {},
   "outputs": [
    {
     "name": "stdout",
     "output_type": "stream",
     "text": [
      "AI: \n",
      "        I know this:\n",
      "        Capital: Seoul\n",
      "        Language: Korean\n",
      "        Food: Kimchi and Bibimbap\n",
      "        Currency: South Korean won"
     ]
    },
    {
     "data": {
      "text/plain": [
       "AIMessageChunk(content='AI: \\n        I know this:\\n        Capital: Seoul\\n        Language: Korean\\n        Food: Kimchi and Bibimbap\\n        Currency: South Korean won')"
      ]
     },
     "execution_count": 13,
     "metadata": {},
     "output_type": "execute_result"
    }
   ],
   "source": [
    "# This is FewShotPromptTemplate (not FewShotChatMessagePromptTemplate)\n",
    "chain.invoke({\"country\": \"Korea\"})"
   ]
  },
  {
   "cell_type": "code",
   "execution_count": 5,
   "metadata": {},
   "outputs": [
    {
     "name": "stdout",
     "output_type": "stream",
     "text": [
      "Korea is divided into two distinct countries: North Korea (officially the Democratic People's Republic of Korea) and South Korea (officially the Republic of Korea). Here are some key points about each:\n",
      "\n",
      "### North Korea:\n",
      "- **Capital**: Pyongyang\n",
      "- **Government**: Single-party state led by the Workers' Party of Korea, with a strong emphasis on a centralized government and military-first policy.\n",
      "- **Language**: Korean\n",
      "- **Economy**: Primarily state-controlled, with limited market reforms. The economy faces significant challenges, including international sanctions and food shortages.\n",
      "- **Culture**: Heavily influenced by the regime, with a focus on propaganda and the cult of personality surrounding its leaders.\n",
      "\n",
      "### South Korea:\n",
      "- **Capital**: Seoul\n",
      "- **Government**: Democratic republic with a multi-party system.\n",
      "- **Language**: Korean\n",
      "- **Economy**: One of the largest economies in Asia, known for its advanced technology, manufacturing (especially electronics and automobiles), and a vibrant pop culture (K-pop, cinema).\n",
      "- **Culture**: Rich in history and tradition, South Korea has a dynamic cultural scene that blends traditional practices with modern influences.\n",
      "\n",
      "### Geography:\n",
      "- The Korean Peninsula is located in East Asia, bordered by the Yellow Sea to the west, the Sea of Japan (East Sea) to the east, and the Korea Strait to the south. The peninsula is characterized by mountainous terrain and a temperate climate.\n",
      "\n",
      "### History:\n",
      "- Korea has a long history, with significant events including the Three Kingdoms period, the Goryeo Dynasty, and the Joseon Dynasty. The peninsula was colonized by Japan from 1910 to 1945. After World War II, Korea was divided into North and South along the 38th parallel, leading to the Korean War (1950-1953), which ended in an armistice but not a formal peace treaty.\n",
      "\n",
      "### Current Issues:\n",
      "- North and South Korea remain technically at war, with ongoing tensions and periodic diplomatic efforts for reconciliation. Human rights issues in North Korea are a significant concern for the international community.\n",
      "\n",
      "Overall, Korea has a rich cultural heritage and plays a significant role in regional and global affairs."
     ]
    },
    {
     "data": {
      "text/plain": [
       "AIMessageChunk(content=\"Korea is divided into two distinct countries: North Korea (officially the Democratic People's Republic of Korea) and South Korea (officially the Republic of Korea). Here are some key points about each:\\n\\n### North Korea:\\n- **Capital**: Pyongyang\\n- **Government**: Single-party state led by the Workers' Party of Korea, with a strong emphasis on a centralized government and military-first policy.\\n- **Language**: Korean\\n- **Economy**: Primarily state-controlled, with limited market reforms. The economy faces significant challenges, including international sanctions and food shortages.\\n- **Culture**: Heavily influenced by the regime, with a focus on propaganda and the cult of personality surrounding its leaders.\\n\\n### South Korea:\\n- **Capital**: Seoul\\n- **Government**: Democratic republic with a multi-party system.\\n- **Language**: Korean\\n- **Economy**: One of the largest economies in Asia, known for its advanced technology, manufacturing (especially electronics and automobiles), and a vibrant pop culture (K-pop, cinema).\\n- **Culture**: Rich in history and tradition, South Korea has a dynamic cultural scene that blends traditional practices with modern influences.\\n\\n### Geography:\\n- The Korean Peninsula is located in East Asia, bordered by the Yellow Sea to the west, the Sea of Japan (East Sea) to the east, and the Korea Strait to the south. The peninsula is characterized by mountainous terrain and a temperate climate.\\n\\n### History:\\n- Korea has a long history, with significant events including the Three Kingdoms period, the Goryeo Dynasty, and the Joseon Dynasty. The peninsula was colonized by Japan from 1910 to 1945. After World War II, Korea was divided into North and South along the 38th parallel, leading to the Korean War (1950-1953), which ended in an armistice but not a formal peace treaty.\\n\\n### Current Issues:\\n- North and South Korea remain technically at war, with ongoing tensions and periodic diplomatic efforts for reconciliation. Human rights issues in North Korea are a significant concern for the international community.\\n\\nOverall, Korea has a rich cultural heritage and plays a significant role in regional and global affairs.\")"
      ]
     },
     "execution_count": 5,
     "metadata": {},
     "output_type": "execute_result"
    }
   ],
   "source": [
    "# gpt-4o-mini-2024-07-18\n",
    "chain.invoke({\"country\": \"Korea\"})"
   ]
  },
  {
   "cell_type": "code",
   "execution_count": 10,
   "metadata": {},
   "outputs": [
    {
     "name": "stdout",
     "output_type": "stream",
     "text": [
      "Here are some key facts about Germany:\n",
      "\n",
      "- **Capital**: Berlin\n",
      "- **Language**: German\n",
      "- **Currency**: Euro (€)\n",
      "- **Geography**: Germany is located in Central Europe and is bordered by nine countries, including France, Poland, and the Netherlands. It has a diverse landscape that includes the Alps in the south, the North Sea and Baltic Sea coasts, and numerous rivers, including the Rhine and Danube.\n",
      "- **Economy**: Germany has the largest economy in Europe and is known for its engineering, automotive industry, and manufacturing. Major companies include Volkswagen, BMW, and Siemens.\n",
      "- **Culture**: Germany has a rich cultural heritage, known for contributions to philosophy, music, literature, and art. Notable figures include composers like Beethoven and Bach, and philosophers like Kant and Nietzsche.\n",
      "- **History**: Germany has a complex history, including the Holy Roman Empire, the rise and fall of the Nazi regime, and the division of East and West Germany during the Cold War. The country reunified in 1990.\n",
      "- **Tourism**: Popular tourist destinations include Berlin, Munich, the Romantic Road, Neuschwanstein Castle, and the Black Forest.\n",
      "\n",
      "Germany is known for its festivals, such as Oktoberfest, and its contributions to science and technology."
     ]
    },
    {
     "data": {
      "text/plain": [
       "AIMessageChunk(content='Here are some key facts about Germany:\\n\\n- **Capital**: Berlin\\n- **Language**: German\\n- **Currency**: Euro (€)\\n- **Geography**: Germany is located in Central Europe and is bordered by nine countries, including France, Poland, and the Netherlands. It has a diverse landscape that includes the Alps in the south, the North Sea and Baltic Sea coasts, and numerous rivers, including the Rhine and Danube.\\n- **Economy**: Germany has the largest economy in Europe and is known for its engineering, automotive industry, and manufacturing. Major companies include Volkswagen, BMW, and Siemens.\\n- **Culture**: Germany has a rich cultural heritage, known for contributions to philosophy, music, literature, and art. Notable figures include composers like Beethoven and Bach, and philosophers like Kant and Nietzsche.\\n- **History**: Germany has a complex history, including the Holy Roman Empire, the rise and fall of the Nazi regime, and the division of East and West Germany during the Cold War. The country reunified in 1990.\\n- **Tourism**: Popular tourist destinations include Berlin, Munich, the Romantic Road, Neuschwanstein Castle, and the Black Forest.\\n\\nGermany is known for its festivals, such as Oktoberfest, and its contributions to science and technology.')"
      ]
     },
     "execution_count": 10,
     "metadata": {},
     "output_type": "execute_result"
    }
   ],
   "source": [
    "# gpt-4o-mini-2024-07-18\n",
    "chain.invoke({\"country\": \"Germany\"})"
   ]
  },
  {
   "cell_type": "code",
   "execution_count": 8,
   "metadata": {},
   "outputs": [
    {
     "name": "stdout",
     "output_type": "stream",
     "text": [
      "\n",
      "        I know this:\n",
      "        Capital: Berlin\n",
      "        Language: German\n",
      "        Food: Bratwurst and Sauerkraut\n",
      "        Currency: Euro\n",
      "        "
     ]
    },
    {
     "data": {
      "text/plain": [
       "AIMessageChunk(content='\\n        I know this:\\n        Capital: Berlin\\n        Language: German\\n        Food: Bratwurst and Sauerkraut\\n        Currency: Euro\\n        ')"
      ]
     },
     "execution_count": 8,
     "metadata": {},
     "output_type": "execute_result"
    }
   ],
   "source": [
    "chat = ChatOpenAI(\n",
    "    model=\"gpt-3.5-turbo\",\n",
    "    temperature=0.1,\n",
    "    streaming=True,\n",
    "    callbacks=[\n",
    "        StreamingStdOutCallbackHandler(),\n",
    "    ],\n",
    ")\n",
    "chain = final_prompt | chat\n",
    "chain.invoke({\"country\": \"Germany\"})"
   ]
  },
  {
   "cell_type": "code",
   "execution_count": 12,
   "metadata": {},
   "outputs": [
    {
     "name": "stdout",
     "output_type": "stream",
     "text": [
      "\n",
      "        I know this:\n",
      "        Capital: Berlin\n",
      "        Language: German\n",
      "        Food: Sausages and Sauerkraut\n",
      "        Currency: Euro\n",
      "        "
     ]
    },
    {
     "data": {
      "text/plain": [
       "AIMessageChunk(content='\\n        I know this:\\n        Capital: Berlin\\n        Language: German\\n        Food: Sausages and Sauerkraut\\n        Currency: Euro\\n        ')"
      ]
     },
     "execution_count": 12,
     "metadata": {},
     "output_type": "execute_result"
    }
   ],
   "source": [
    "# gpt-4o-mini-2024-07-18\n",
    "# add \"you give short answer.\"\n",
    "chain.invoke({\"country\": \"Germany\"})"
   ]
  }
 ],
 "metadata": {
  "kernelspec": {
   "display_name": "env",
   "language": "python",
   "name": "python3"
  },
  "language_info": {
   "codemirror_mode": {
    "name": "ipython",
    "version": 3
   },
   "file_extension": ".py",
   "mimetype": "text/x-python",
   "name": "python",
   "nbconvert_exporter": "python",
   "pygments_lexer": "ipython3",
   "version": "3.11.6"
  }
 },
 "nbformat": 4,
 "nbformat_minor": 2
}
